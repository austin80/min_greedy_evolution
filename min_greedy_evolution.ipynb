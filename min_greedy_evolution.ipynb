{
 "cells": [
  {
   "cell_type": "code",
   "execution_count": 492,
   "id": "c7017b5e-22e7-4b04-bc20-3161a0728656",
   "metadata": {},
   "outputs": [],
   "source": [
    "from scipy.integrate import solve_ivp\n",
    "import numpy as np\n",
    "import matplotlib.pyplot as plt"
   ]
  },
  {
   "cell_type": "markdown",
   "id": "c4e52615-25ae-43ff-8ede-07e5f82277d6",
   "metadata": {},
   "source": [
    "We use the following conventions throughout. We use $x \\in [0,1]$ as the time variable. For $i = 0,1, \\dots, d$, $y_{i}(x)$ is the proportion of vertices of degree $i$ at time $x$, and we let $y(x) = (y_{1}(x),\\dots,y_{d}(x))$."
   ]
  },
  {
   "cell_type": "markdown",
   "id": "eaa09413-67b2-4c34-8690-7040dfd5b0bd",
   "metadata": {},
   "source": [
    "Utility functions."
   ]
  },
  {
   "cell_type": "code",
   "execution_count": 496,
   "id": "d693a7e5-52a4-41e1-8e90-04e9cc9b00e1",
   "metadata": {},
   "outputs": [],
   "source": [
    "def delta(a,b):#dirac delta function\n",
    "    if a == b:\n",
    "        return 1\n",
    "    else:\n",
    "        return 0\n",
    "\n",
    "def S(y, d):#returns the total degree of the remaining graph at time t\n",
    "    return sum([(i+1)*y[i] for i in range(d)])\n",
    "\n",
    "def f(x, y, i, r, d):#returns (approximate) expected change in Y_{i} conditioned on the history up to time t and on processing a vertex of degree r at time t\n",
    "    total_degree = S(y, d)\n",
    "    term1 = -delta(i,r) - (r*i*y[i-1])/total_degree\n",
    "    if i < d:\n",
    "        return term1 + (r*(i+1)*y[i])/total_degree\n",
    "    else:\n",
    "        return term1\n",
    "\n",
    "#beta and tau are used define the proportion of each selection type in phase k for the deprioritized algorithm\n",
    "def beta(x, y, k, d):\n",
    "    return f(x, y, d-k-1, d-k, d)\n",
    "    \n",
    "def tau(x, y, k, d):\n",
    "    return -f(x, y, d-k-1, d-k-1, d)"
   ]
  },
  {
   "cell_type": "markdown",
   "id": "86727efe-e685-4edd-8c36-f59fab8438a1",
   "metadata": {},
   "source": [
    "Defines the system of ODEs as a function of $x$, $y$, and $k$."
   ]
  },
  {
   "cell_type": "code",
   "execution_count": 499,
   "id": "ccd84933-8226-4966-bbac-f33e35bca812",
   "metadata": {},
   "outputs": [],
   "source": [
    "def degree_evolution(x, y, k, d):#returns 1dim array of length d which gives RHS of the ODE system for phase k, k = 1,2,...,d-1\n",
    "    F = [0]*d\n",
    "    A = tau(x, y, k, d)/(beta(x, y, k, d) + tau(x, y, k, d))\n",
    "    B = beta(x, y, k, d)/(beta(x, y, k, d) + tau(x, y, k, d))\n",
    "    if k <= d-2:\n",
    "        for i in range(d):\n",
    "            F[i] = A*f(x, y, i+1, d-k, d) + B*f(x, y, i+1, d-k-1, d)\n",
    "    elif k == d-1:\n",
    "        for i in range(d):\n",
    "            F[i] = f(x, y, i+1, 1, d)\n",
    "    return F"
   ]
  },
  {
   "cell_type": "markdown",
   "id": "5740ea3c-e2f6-43ec-a0e7-7e2de4960d48",
   "metadata": {},
   "source": [
    "Event functions: for each function $G$ below, the solver records the times $x$ for which $G(x) = 0$."
   ]
  },
  {
   "cell_type": "code",
   "execution_count": 502,
   "id": "b4db73ae-9ed7-4b44-8c7a-dd00bb362920",
   "metadata": {},
   "outputs": [],
   "source": [
    "def critical(x, y, k, d):#returns y_{d}' - (-1), the solution of which is the critical point of the system\n",
    "    return degree_evolution(x, y, k, d)[d-1] + 1\n",
    "\n",
    "def phase_terminate(x, y, k, d):#used for termination condition for phase k: tau = 0\n",
    "    return tau(x, y, k, d)\n",
    "phase_terminate.terminal = True #ensures the integration halts if we reach a state with tau = 0"
   ]
  },
  {
   "cell_type": "markdown",
   "id": "46b7e94a-5c04-4898-943f-d9b0a6826b4e",
   "metadata": {},
   "source": [
    "The solver."
   ]
  },
  {
   "cell_type": "code",
   "execution_count": 505,
   "id": "a125eebb-79ce-45f9-8969-c59ccc4a180b",
   "metadata": {},
   "outputs": [],
   "source": [
    "def mingreedySolve(d):#returns a 1dim array of scipy ODEsolution objects, where the entry at index k-1 is the solution during phase k\n",
    "    y0 = [0]*(d-1) + [1]\n",
    "    x0 = 0\n",
    "    sols = []\n",
    "    for k in range(1,d):\n",
    "        sol = solve_ivp(degree_evolution, [x0, 1], y0, dense_output = True, events = (phase_terminate, critical), args = (k,d))\n",
    "        sols.append(sol)\n",
    "        if sol.status == 0:#sol.status = 0 iff it reaches the end of the integration interval, i.e, x = 1\n",
    "            break\n",
    "        else:\n",
    "            x0 = sol.t_events[0][0]\n",
    "            y0 = sol.sol(x0)\n",
    "    return sols"
   ]
  },
  {
   "cell_type": "markdown",
   "id": "b059bc0f-f919-4a1d-b184-c0119de4555e",
   "metadata": {},
   "source": [
    "Solves the IVP for all $d$ in a given range, and computes $\\sum_{i=0}^{d-1}y_{i}(x^{*})$, where $x^{*}$ is such that $y_{d}'(x^{*}) + 1 = 0$."
   ]
  },
  {
   "cell_type": "code",
   "execution_count": 524,
   "id": "d78db8f3-f187-42e2-bff0-93cccb54dc99",
   "metadata": {},
   "outputs": [
    {
     "name": "stdout",
     "output_type": "stream",
     "text": [
      "degree (d)           bound\n",
      "----------------------------\n",
      " 3      0.22218760020623377\n",
      " 4      0.33305439527567027\n",
      " 5      0.42390737787442445\n",
      " 6       0.4910418721601975\n",
      " 7       0.5400987998646845\n",
      " 8       0.5816588940036727\n",
      " 9       0.6162415366471109\n",
      "10       0.6445529549683559\n",
      "11       0.6681234793941936\n",
      "12       0.6888537944875079\n",
      "13       0.7071825016068469\n",
      "14        0.723273032221251\n",
      "15       0.7374538072196422\n",
      "16       0.7500199628381669\n",
      "17       0.7612669072510119\n",
      "18       0.7715549874784335\n",
      "19       0.7809761848225099\n",
      "20        0.789603802248852\n",
      "21       0.7975150303584235\n",
      "22        0.804784976629285\n",
      "23       0.8114777807697199\n",
      "24       0.8176455445357618\n",
      "25       0.8233881162861584\n",
      "26       0.8287717076068477\n",
      "27       0.8338208838881924\n",
      "28       0.8385620964725898\n",
      "29       0.8430250517542714\n",
      "30       0.8472315086096358\n"
     ]
    }
   ],
   "source": [
    "upper_bounds = []\n",
    "for d in range(3, 31):\n",
    "    sols = mingreedySolve(d)\n",
    "    for sol in sols:\n",
    "        if sol.t_events[1].size > 0 and sol.t_events[1][0] <= 0.9999:#second condition is there in order to ignore superfluous t_events at x = 1\n",
    "            M = sol.y_events[1][0]\n",
    "            upper_bounds.append((d, M[0:d-1].sum()))\n",
    "\n",
    "print(f\"{\"degree (d)\":<20} bound\")\n",
    "print(\"-\"*28)\n",
    "for d, y in upper_bounds:\n",
    "    print(f\"{d:>2} {y:>24,}\")"
   ]
  }
 ],
 "metadata": {
  "kernelspec": {
   "display_name": "Python 3 (ipykernel)",
   "language": "python",
   "name": "python3"
  },
  "language_info": {
   "codemirror_mode": {
    "name": "ipython",
    "version": 3
   },
   "file_extension": ".py",
   "mimetype": "text/x-python",
   "name": "python",
   "nbconvert_exporter": "python",
   "pygments_lexer": "ipython3",
   "version": "3.12.4"
  }
 },
 "nbformat": 4,
 "nbformat_minor": 5
}
